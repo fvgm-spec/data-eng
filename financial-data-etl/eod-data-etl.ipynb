{
 "cells": [
  {
   "cell_type": "markdown",
   "metadata": {},
   "source": [
    "### EOD data extraction ETL process"
   ]
  },
  {
   "cell_type": "code",
   "execution_count": 1,
   "metadata": {},
   "outputs": [],
   "source": [
    "#Importing required libraries\n",
    "import pandas as pd\n",
    "import numpy as np\n",
    "import os\n",
    "import requests\n",
    "import gspread\n",
    "from gspread_dataframe import set_with_dataframe\n",
    "from utilities import init_session, sanitize_dates, format_date, url, RemoteDataError"
   ]
  },
  {
   "cell_type": "markdown",
   "metadata": {},
   "source": [
    "##### Creating S3 bucket\n",
    "This step assumes that you have configured your AWS CLI locally, if this is not the case you can follow this link in order to configure your [AWS Command Line Interface](https://docs.aws.amazon.com/cli/latest/userguide/cli-chap-welcome.html).\n",
    "\n",
    "You can run the cell above or you can also execute the following line in your command line `aws s3api create-bucket --bucket eod-data-test-bucket --region us-east-2 --create-bucket-configuration LocationConstraint=us-east-2`, it will create a new bucket in your S3 storage named `eod-data-test-bucket` or any other name you prefer, just please follow this link that will guide you on the naming rules for buckets [Bucket naming rules](https://docs.aws.amazon.com/AmazonS3/latest/userguide/bucketnamingrules.html)"
   ]
  },
  {
   "cell_type": "code",
   "execution_count": null,
   "metadata": {},
   "outputs": [],
   "source": [
    "!aws s3api create-bucket --bucket eod-data-test-bucket --region us-east-2 --create-bucket-configuration LocationConstraint=us-east-2"
   ]
  },
  {
   "cell_type": "code",
   "execution_count": null,
   "metadata": {},
   "outputs": [],
   "source": [
    "#Setting variables\n",
    "token = os.getenv('EOD_API_TOKEN')\n",
    "aws_key = os.environ.get('AWS_ACCESS_KEY_ID')\n",
    "aws_secret = os.environ.get('AWS_SECRET_ACCESS_KEY')\n",
    "#This API key is used for demo purposes\n",
    "EOD_HISTORICAL_DATA_API_KEY_DEFAULT = \"OeAFFmMliFG5orCUuwAKQ8l4WWFQ67YX\"\n",
    "EOD_HISTORICAL_DATA_API_URL = \"https://eodhistoricaldata.com/api\"\n",
    "#This is the bucket name that was created in your AWS account\n",
    "bucket = 'eod-datalake'"
   ]
  },
  {
   "cell_type": "markdown",
   "metadata": {},
   "source": [
    "##### Helper functions"
   ]
  },
  {
   "cell_type": "markdown",
   "metadata": {},
   "source": []
  },
  {
   "cell_type": "code",
   "execution_count": null,
   "metadata": {},
   "outputs": [],
   "source": [
    "def get_eod_data(symbol, exchange, endpoint, start=None, end=None, api_key=token, session=None):\n",
    "    \"\"\"\n",
    "    Returns EOD (end of day data) for a given symbol\n",
    "    \"\"\"\n",
    "    symbol_exchange = symbol + \".\" + exchange\n",
    "    session = init_session(session)\n",
    "    start, end = sanitize_dates(start, end)\n",
    "    endpoint = f\"/{endpoint}/{symbol_exchange}\"\n",
    "    url = EOD_HISTORICAL_DATA_API_URL + endpoint\n",
    "    params = {\n",
    "        \"api_token\": api_key,\n",
    "        \"from\": format_date(start),\n",
    "        \"to\": format_date(end)\n",
    "    }\n",
    "    \n",
    "    r = session.get(url, params=params)\n",
    "    \n",
    "    if r.status_code == requests.codes.ok:\n",
    "        df = pd.read_csv(StringIO(r.text), \n",
    "                         skipfooter=1,\n",
    "                         parse_dates=[0], \n",
    "                         index_col=0)\n",
    "        return df\n",
    "    \n",
    "    else:\n",
    "        params[\"api_token\"] = \"YOUR_HIDDEN_API\"\n",
    "        raise RemoteDataError(r.status_code, r.reason, url(url, params))\n",
    "        \n",
    "def get_fundamental_data(symbol, exchange, endpoint, api_key=token,session=None):\n",
    "    \"\"\"\n",
    "    Returns EOD (end of day data) for a given symbol\n",
    "    \"\"\"\n",
    "    symbol_exchange = symbol + \".\" + exchange\n",
    "    session = init_session(session)\n",
    "    endpoint = f\"/{endpoint}/{symbol_exchange}\"\n",
    "    url = EOD_HISTORICAL_DATA_API_URL + endpoint\n",
    "    params = {\n",
    "        \"api_token\": api_key\n",
    "    }\n",
    "    \n",
    "    r = session.get(url)\n",
    "    \n",
    "    if r.status_code == requests.codes.ok:\n",
    "        #df = pd.read_csv(StringIO(r.text), skipfooter=1,\n",
    "        #                 parse_dates=[0], index_col=0)\n",
    "        print(r.text)\n",
    "    else:\n",
    "        pass\n",
    "\n",
    "    return r.text\n",
    "\n",
    "def write_data_to_bucket(file_name:str, mode:str):\n",
    "    \"\"\"\n",
    "    Parameters:\n",
    "    ----------\n",
    "    mode(str): Available write modes are 'append', 'overwrite' and 'overwrite_partitions'\n",
    "    \"\"\"\n",
    "\n",
    "    path = f\"s3://{bucket}/raw-data/{file_name}\"\n",
    "    #Sending dataframe of corresponding ticker to bucket\n",
    "    wr.s3.to_csv(\n",
    "        df=df,\n",
    "        path=path,\n",
    "        index=True,\n",
    "        dataset=True,\n",
    "        mode=mode\n",
    "    )\n",
    "\n",
    "def read_csv_from_bucket(folder_name:str) -> pd.DataFrame:\n",
    "\n",
    "    df = wr.s3.read_csv(path = f\"s3://{bucket}/raw-data/{folder_name}/\",\n",
    "                        path_suffix = \".csv\"\n",
    ")\n",
    "    return df"
   ]
  }
 ],
 "metadata": {
  "kernelspec": {
   "display_name": "base",
   "language": "python",
   "name": "python3"
  },
  "language_info": {
   "codemirror_mode": {
    "name": "ipython",
    "version": 3
   },
   "file_extension": ".py",
   "mimetype": "text/x-python",
   "name": "python",
   "nbconvert_exporter": "python",
   "pygments_lexer": "ipython3",
   "version": "3.9.13"
  },
  "orig_nbformat": 4
 },
 "nbformat": 4,
 "nbformat_minor": 2
}
